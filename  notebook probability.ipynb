{
 "cells": [
  {
   "cell_type": "markdown",
   "metadata": {},
   "source": [
    "# probabilty notebook"
   ]
  },
  {
   "cell_type": "markdown",
   "metadata": {},
   "source": [
    "# question 1"
   ]
  },
  {
   "cell_type": "markdown",
   "metadata": {},
   "source": [
    "## section 1:"
   ]
  },
  {
   "cell_type": "markdown",
   "metadata": {},
   "source": [
    "The probability of giving birth to **not identical** twins is : $$\\frac {1}{125}$$\n",
    "The probability of giving birth to **identical** twins is : $$\\frac {1}{300}$$  \n",
    "\n",
    "The probability: for giving a birth to a boy is identical to giving birth to a girl and it is : $$\\frac {1}{2}$$\n",
    "\n",
    "\n",
    "The probability that Elvis was an identical twin is:\n",
    "\n",
    "since elvis had a twin brother we already know that he was a boy which means that it can either be an identical twin or an non identical twin\n",
    "\n",
    "The probability of not being an identical twin and being a boy is:\n",
    "\n",
    "$$\\frac {1}{125} \\cdot \\frac {1}{2} \\cdot \\frac {1}{2}$$\n",
    "\n",
    "The probability of being an identical boy twins is:\n",
    "\n",
    "$$\\frac {1}{300} \\cdot \\frac {1}{2}$$\n",
    "\n",
    "Therefore the probability of elvis's twin  being an identical twin is:\n",
    "\n",
    "$$\\frac {\\frac {1}{2}\\cdot \\frac {1}{300}}{\\frac {1}{500} + \\frac {1}{600} } = \\frac {5}{11}$$"
   ]
  },
  {
   "cell_type": "markdown",
   "metadata": {},
   "source": [
    "## section 2:"
   ]
  },
  {
   "cell_type": "markdown",
   "metadata": {},
   "source": [
    "The probability of giving birth to **not identical** twins is : $$\\frac {1}{125}$$\n",
    "The probability of giving birth to **identical** twins is : $$\\frac {1}{300}$$  \n",
    "\n",
    "1st cookie jar has 10 almond cookies and 30 chocolate cookies\n",
    "2nd cookie jar has 20 almond and chocolate cookies \n",
    "\n",
    "It is known that Arik has taken a chocolate cookie, What is the probability this cookie was taken from the 1st jar?\n",
    "\n",
    "The probability of picking a chocolate cookie is:\n",
    "\n",
    "$$\\frac {1}{2} \\cdot \\frac {1}{2} + \\frac {1}{2} \\cdot \\frac {3}{4} = \\frac {5}{8}$$\n",
    "\n",
    "The probability that the chocolate cookie was taken from the 1st jar is:\n",
    "\n",
    "$$\\frac {\\frac {1}{2} \\cdot \\frac {3}{4}}{\\frac {5}{8}}= \\frac {3}{5}$$ "
   ]
  },
  {
   "cell_type": "markdown",
   "metadata": {},
   "source": [
    "# question 2"
   ]
  },
  {
   "cell_type": "markdown",
   "metadata": {},
   "source": [
    "\n",
    "The hypothesis we have is:\n",
    "\n",
    "A: Bag $1$ is from $1994$ and Bag $2$ is from $1996$\n",
    "\n",
    "B: Bag $2$ is from $1994$ and Bag $1$ is from $1996$\n",
    "\n",
    "We can easily see that the probability for each case(A , B ) is $ 50\\% $\n",
    "\n",
    "The evidence we have is:\n",
    "\n",
    "Yellow from bag 1(the 1994 bag) and green from bag 2 (the 1996 bag).\n",
    "\n",
    "Since the probability of taking a yellow from 1994 is intertwined with taking a green from 1996 (and vice versa for yellow from 1996) we must multiply the probabilty.\n",
    "\n",
    "So the probabilty for a yellow m&m from bag 1 is : $(0.2)\\cdot(0.2) = 0.04$\n",
    "\n",
    "and the probabilty for a yellow m&m from bag 2 is : $(0.1)\\cdot(0.14) =0.014 $\n",
    "\n",
    "Plugging that into the bayes probabilty theorem we get:\n",
    "\n",
    "P(A | B) = $\\dfrac{P(A and B)}{ P(B)} = \\dfrac{0.04}{0.2 \\cdot 0.2 + 0.1 \\cdot 0.14} = \\dfrac{0.04}{0.054} = 0.74074 $"
   ]
  },
  {
   "cell_type": "markdown",
   "metadata": {},
   "source": [
    "# question 3"
   ]
  },
  {
   "cell_type": "markdown",
   "metadata": {},
   "source": [
    "## section 1"
   ]
  },
  {
   "cell_type": "markdown",
   "metadata": {},
   "source": [
    "A = You are actually sick\n",
    "\n",
    "\n",
    "B = The test result was possitive\n",
    "\n",
    "$$P(B|A) = 1 $$\n",
    "\n",
    "\n",
    "$$P(A) = \\frac {1}{10^4}$$\n",
    "\n",
    "\n",
    "$$P(B) = \\frac {1}{10^4} + \\frac {9999}{10^4} * \\frac {1}{100} = 0.010099$$\n",
    "\n",
    "$$P(A|B) = \\frac {P(B|A) \\cdot P(A)}{P(B)} = \\frac {\\frac {1}{10^4}}{0.010099} = \\frac {100}{10099}$$\n",
    "\n",
    "The Probability you are actually sick is : $$ \\frac {100}{10099} $$"
   ]
  },
  {
   "cell_type": "markdown",
   "metadata": {},
   "source": [
    "## section 2"
   ]
  },
  {
   "cell_type": "markdown",
   "metadata": {},
   "source": [
    "A = you are actually sick\n",
    "\n",
    "B = The test result was possitive\n",
    "\n",
    "\n",
    "$$P(B|A) = 1 $$\n",
    "\n",
    "\n",
    "$$P(A) = \\frac {1}{200}$$\n",
    "\n",
    "\n",
    "$$P(B) = \\frac {1}{200} + \\frac {199}{200} * \\frac {1}{100} = \\frac {299}{20000} = 0.01495$$\n",
    "\n",
    "\n",
    "$$P(A|B) = \\frac {P(B|A) \\cdot P(A)}{P(B)} = \\frac {\\frac {1}{200}}{0.01495} = \\frac {100}{299}$$\n",
    "\n",
    "\n",
    "The Probability you are actually sick is : **$$ \\frac {100}{299} $$**"
   ]
  },
  {
   "cell_type": "markdown",
   "metadata": {},
   "source": [
    "# question 1"
   ]
  },
  {
   "cell_type": "markdown",
   "metadata": {},
   "source": [
    "the numbers that are divisible by 3 and can be received from 2 dices are : 3,6,9,12\n",
    "\n",
    "the numbers we roll to achieve those are:\n",
    "\n",
    "3: (1,2) , (2,1)\n",
    "\n",
    "6 : (2,4) , (4,2) (1,5)(5,1), (3,3)\n",
    "\n",
    "9: (4,5) (5,4) (3,6) (6,3)\n",
    "\n",
    "12 : (6,6)\n",
    "\n",
    "probability of getting a number which is divisible by 3 is :$$\\frac {12}{36} = \\frac {1}{3}$$\n",
    "\n",
    "which means that the probability of winning is :\n",
    "\n",
    "$$\\frac {1}{3}$$\n",
    "The Expected value is:\n",
    "\n",
    "$$\\frac {1}{3} \\cdot 6 + (-3) \\cdot \\frac {2}{3} = 0$$"
   ]
  },
  {
   "cell_type": "markdown",
   "metadata": {},
   "source": [
    "# question 2"
   ]
  },
  {
   "cell_type": "markdown",
   "metadata": {},
   "source": [
    "\n",
    "\n",
    "1. break even (**=12**) : **(2,10), (3,9), (4,8), (5,7)**\n",
    "2. lose (6 \\$) (**< 12**) :  **(1,[6-10]) \\: (2, [6-9]) \\: (3,[6-8]) \\:(4,[6,7]) \\: (5,6)**\n",
    "3. win (5 \\$) (**> 12**) : **(3, [10]) , (4,[9-10]) , (5, [8-10])**\n",
    "\n",
    "probability of winning : \n",
    "\n",
    "$$\\frac {1}{25} + \\frac {2}{25} + \\frac {3}{25} = \\frac {6}{25}$$\n",
    "\n",
    "probability of losing:\n",
    "\n",
    "$$\\frac {5}{25} + \\frac {4}{25} + \\frac {3}{25} + \\frac {2}{25} + \\frac {1}{25} = \\frac {15}{25} = 0.6$$\n",
    "\n",
    "probability of breaking even: \n",
    "$$\\frac {1}{25} \\cdot 4 = \\frac {4}{25}$$\n",
    "\n",
    "The expected value is: \n",
    "\n",
    "$$0.6 \\cdot (-6) + 0.24 \\cdot 5 + 0.16 \\cdot 0 = -2.4 \\$ $$"
   ]
  },
  {
   "cell_type": "markdown",
   "metadata": {},
   "source": [
    "# question 3"
   ]
  },
  {
   "cell_type": "markdown",
   "metadata": {},
   "source": [
    "\n",
    "The company has 200 empolyes.\n",
    "\n",
    "Men empolyes are 40%(P(A)) of the companies employees therefore - 80 employes.\n",
    "\n",
    "Women empolyes are 60% (P(B)) of the companies employees therefore - 120 employes.\n",
    "\n",
    "Inorder to find the answer we need to find the mean (which in our case is the expected value) , and according to that find the std which will be our answer.\n",
    "\n",
    "std = $\\sqrt{mean \\cdot P(B) }  = \\sqrt{8 \\cdot P(A) \\cdot P(B) } = \\sqrt{8 \\cdot 0.4 \\cdot 0.6} = 1.3856$"
   ]
  },
  {
   "cell_type": "markdown",
   "metadata": {},
   "source": [
    "# question 4"
   ]
  },
  {
   "cell_type": "markdown",
   "metadata": {},
   "source": [
    "**The mean is 26 and the std = 2**\n",
    "\n",
    "\n",
    "\n",
    "according to the 68-95-99.7 rule (from assignment 5)\n",
    "\n",
    "if $$x \\in (26,26+std) \\: \\text {then we get 34% of the results}$$\n",
    "\n",
    "if $$x \\in (26+std,26+ 2\\cdot std) \\: \\text {then we get 14% of the results}$$\n",
    "\n",
    "so if we want 26<X<30 we need to add both the percentage of results of  $$f(x) \\mid x \\in (26,26+2 \\cdot std)$$\n",
    "which is $$\\approx 48\\%$$\n"
   ]
  },
  {
   "cell_type": "markdown",
   "metadata": {},
   "source": [
    "# question 5"
   ]
  },
  {
   "cell_type": "markdown",
   "metadata": {},
   "source": [
    "\n",
    "To calculate $P \\gt 3$ we need to calculate the following $$\\frac {\\text {area of the triangle when x > 3}}{area of the triangle}$$\n",
    " \n",
    "<font size=\"4\">the area of the big triangle is $\\dfrac {5 \\cdot 0.4}{2} = 1$\n",
    "\n",
    "$$ S = \\frac {\\dfrac {2 \\cdot 0.4}{2}}{1} = \\frac {2}{5}$$\n",
    "\n",
    "\n"
   ]
  },
  {
   "cell_type": "markdown",
   "metadata": {},
   "source": [
    "# question 6"
   ]
  },
  {
   "cell_type": "markdown",
   "metadata": {},
   "source": [
    "60% of the 500 employees have children which are = 300 employees\n",
    "so: 300/500 have children, 200/500 don't have children\n",
    "we select randomly 4 employees, the probability to select exactly 3 employees that have children is:\n",
    "P(no children)P(have children)P(have children)P(have children)*4 different options\n",
    "\n",
    "$(\\dfrac{200}{500} \\cdot\\dfrac{300}{500}\\cdot\\dfrac{299}{500}\\cdot\\dfrac{298}{500}\\cdot(4) = 0.342   $"
   ]
  },
  {
   "cell_type": "markdown",
   "metadata": {},
   "source": [
    "# question 7"
   ]
  },
  {
   "cell_type": "markdown",
   "metadata": {},
   "source": [
    "The expected values is :\n",
    "\n",
    "$$ Expected \\: Value = (-10) \\cdot 0.1 + (-5) \\cdot 0.35 + 0 \\cdot 0.1 + 5 \\cdot 0.35 + 10 \\cdot 0.1 = 0$$\n",
    "\n",
    "The Expected value is 0"
   ]
  },
  {
   "cell_type": "code",
   "execution_count": null,
   "metadata": {},
   "outputs": [],
   "source": []
  }
 ],
 "metadata": {
  "kernelspec": {
   "display_name": "Python 3",
   "language": "python",
   "name": "python3"
  },
  "language_info": {
   "codemirror_mode": {
    "name": "ipython",
    "version": 3
   },
   "file_extension": ".py",
   "mimetype": "text/x-python",
   "name": "python",
   "nbconvert_exporter": "python",
   "pygments_lexer": "ipython3",
   "version": "3.8.3"
  }
 },
 "nbformat": 4,
 "nbformat_minor": 4
}
